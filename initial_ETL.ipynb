{
 "cells": [
  {
   "cell_type": "code",
   "execution_count": 3,
   "metadata": {},
   "outputs": [],
   "source": [
    "import dask.dataframe as dd\n",
    "from dask.distributed import Client\n",
    "import numpy as np\n",
    "import pandas as pd\n",
    "import ast\n",
    "from IPython.display import display, HTML"
   ]
  },
  {
   "cell_type": "code",
   "execution_count": 4,
   "metadata": {},
   "outputs": [
    {
     "name": "stderr",
     "output_type": "stream",
     "text": [
      "C:\\ProgramData\\Anaconda3\\lib\\site-packages\\distributed\\bokeh\\core.py:57: UserWarning: \n",
      "Port 8787 is already in use. \n",
      "Perhaps you already have a cluster running?\n",
      "Hosting the diagnostics dashboard on a random port instead.\n",
      "  warnings.warn('\\n' + msg)\n"
     ]
    },
    {
     "data": {
      "text/html": [
       "<table style=\"border: 2px solid white;\">\n",
       "<tr>\n",
       "<td style=\"vertical-align: top; border: 0px solid white\">\n",
       "<h3>Client</h3>\n",
       "<ul>\n",
       "  <li><b>Scheduler: </b>tcp://127.0.0.1:56767\n",
       "  <li><b>Dashboard: </b><a href='http://127.0.0.1:56770/status' target='_blank'>http://127.0.0.1:56770/status</a>\n",
       "</ul>\n",
       "</td>\n",
       "<td style=\"vertical-align: top; border: 0px solid white\">\n",
       "<h3>Cluster</h3>\n",
       "<ul>\n",
       "  <li><b>Workers: </b>4</li>\n",
       "  <li><b>Cores: </b>12</li>\n",
       "  <li><b>Memory: </b>34.29 GB</li>\n",
       "</ul>\n",
       "</td>\n",
       "</tr>\n",
       "</table>"
      ],
      "text/plain": [
       "<Client: scheduler='tcp://127.0.0.1:56767' processes=4 cores=12>"
      ]
     },
     "execution_count": 4,
     "metadata": {},
     "output_type": "execute_result"
    }
   ],
   "source": [
    "client = Client()\n",
    "client"
   ]
  },
  {
   "cell_type": "code",
   "execution_count": 24,
   "metadata": {},
   "outputs": [],
   "source": [
    "# save test versions\n",
    "pd.read_csv('matches_small.csv', nrows=1000).to_csv('matches_small_test.csv', index=False)\n",
    "pd.read_csv('player_matches_small.csv', nrows=1000).to_csv('player_matches_small_test.csv', index=False)\n",
    "pd.read_csv('match_skill.csv', nrows=1000).to_csv('match_skill_test.csv', index=False)\n"
   ]
  },
  {
   "cell_type": "code",
   "execution_count": 5,
   "metadata": {},
   "outputs": [],
   "source": [
    "df_matches_small = dd.read_csv('matches_small.csv')\n",
    "df_match_skill = dd.read_csv('match_skill.csv')\n",
    "df_player_matches_small = dd.read_csv('player_matches_small.csv')"
   ]
  },
  {
   "cell_type": "code",
   "execution_count": 20,
   "metadata": {},
   "outputs": [
    {
     "data": {
      "text/html": [
       "<div>\n",
       "<style scoped>\n",
       "    .dataframe tbody tr th:only-of-type {\n",
       "        vertical-align: middle;\n",
       "    }\n",
       "\n",
       "    .dataframe tbody tr th {\n",
       "        vertical-align: top;\n",
       "    }\n",
       "\n",
       "    .dataframe thead th {\n",
       "        text-align: right;\n",
       "    }\n",
       "</style>\n",
       "<table border=\"1\" class=\"dataframe\">\n",
       "  <thead>\n",
       "    <tr style=\"text-align: right;\">\n",
       "      <th></th>\n",
       "      <th>start_time</th>\n",
       "      <th>date</th>\n",
       "    </tr>\n",
       "  </thead>\n",
       "  <tbody>\n",
       "    <tr>\n",
       "      <th>0</th>\n",
       "      <td>1461013929</td>\n",
       "      <td>2016-04-18 21:12:09</td>\n",
       "    </tr>\n",
       "    <tr>\n",
       "      <th>1</th>\n",
       "      <td>1461013382</td>\n",
       "      <td>2016-04-18 21:03:02</td>\n",
       "    </tr>\n",
       "    <tr>\n",
       "      <th>2</th>\n",
       "      <td>1461012679</td>\n",
       "      <td>2016-04-18 20:51:19</td>\n",
       "    </tr>\n",
       "    <tr>\n",
       "      <th>3</th>\n",
       "      <td>1461013865</td>\n",
       "      <td>2016-04-18 21:11:05</td>\n",
       "    </tr>\n",
       "    <tr>\n",
       "      <th>4</th>\n",
       "      <td>1461012987</td>\n",
       "      <td>2016-04-18 20:56:27</td>\n",
       "    </tr>\n",
       "  </tbody>\n",
       "</table>\n",
       "</div>"
      ],
      "text/plain": [
       "   start_time                date\n",
       "0  1461013929 2016-04-18 21:12:09\n",
       "1  1461013382 2016-04-18 21:03:02\n",
       "2  1461012679 2016-04-18 20:51:19\n",
       "3  1461013865 2016-04-18 21:11:05\n",
       "4  1461012987 2016-04-18 20:56:27"
      ]
     },
     "execution_count": 20,
     "metadata": {},
     "output_type": "execute_result"
    }
   ],
   "source": [
    "ts = pd.DataFrame(df_matches_small['start_time'].head())\n",
    "ts['date'] = pd.to_datetime(ts['start_time'], unit='s')\n",
    "ts"
   ]
  },
  {
   "cell_type": "code",
   "execution_count": 29,
   "metadata": {},
   "outputs": [
    {
     "data": {
      "text/plain": [
       "Index(['match_id', 'match_seq_num', 'radiant_win', 'start_time', 'duration',\n",
       "       'tower_status_radiant', 'tower_status_dire', 'barracks_status_radiant',\n",
       "       'barracks_status_dire', 'cluster', 'first_blood_time', 'lobby_type',\n",
       "       'human_players', 'leagueid', 'positive_votes', 'negative_votes',\n",
       "       'game_mode', 'engine', 'picks_bans', 'parse_status', 'chat',\n",
       "       'objectives', 'radiant_gold_adv', 'radiant_xp_adv', 'teamfights',\n",
       "       'version', 'pgroup'],\n",
       "      dtype='object')"
      ]
     },
     "execution_count": 29,
     "metadata": {},
     "output_type": "execute_result"
    }
   ],
   "source": [
    "df_matches_small.columns"
   ]
  },
  {
   "cell_type": "code",
   "execution_count": 31,
   "metadata": {},
   "outputs": [
    {
     "data": {
      "text/plain": [
       "151    123224\n",
       "153    122918\n",
       "154    119986\n",
       "152    112255\n",
       "204     95907\n",
       "132     85414\n",
       "181     83581\n",
       "224     80927\n",
       "156     75890\n",
       "227     70362\n",
       "155     69356\n",
       "133     69209\n",
       "182     58426\n",
       "231     54721\n",
       "187     52854\n",
       "121     50478\n",
       "122     46402\n",
       "191     46379\n",
       "223     45900\n",
       "188     43685\n",
       "138     43077\n",
       "185     37777\n",
       "184     34321\n",
       "192     33504\n",
       "225     33379\n",
       "123     32752\n",
       "131     22380\n",
       "183     22282\n",
       "137     22021\n",
       "186     21409\n",
       "111     19569\n",
       "112     19066\n",
       "134     18167\n",
       "136     17782\n",
       "135     16508\n",
       "171     14559\n",
       "124     11941\n",
       "144      6544\n",
       "251      6346\n",
       "145      5304\n",
       "161      4351\n",
       "213      3665\n",
       "242      1474\n",
       "241      1160\n",
       "261      1053\n",
       "211       861\n",
       "212       179\n",
       "200        78\n",
       "113        61\n",
       "114        52\n",
       "203         6\n",
       "143         5\n",
       "202         4\n",
       "141         2\n",
       "142         2\n",
       "Name: cluster, dtype: int64"
      ]
     },
     "execution_count": 31,
     "metadata": {},
     "output_type": "execute_result"
    }
   ],
   "source": [
    "df_matches_small.cluster.value_counts().compute()"
   ]
  },
  {
   "cell_type": "code",
   "execution_count": null,
   "metadata": {},
   "outputs": [],
   "source": [
    "# transform to add columns for players 0-9: account_id and hero_id\n",
    "def add_feature_columns(x):\n",
    "    accounts = np.empty(10)\n",
    "    accounts[:] = np.nan\n",
    "    col_names = ['p0','p1','p2','p3','p4','p5','p6','p7','p8','p9']\n",
    "    try:\n",
    "        d = ast.literal_eval(x)\n",
    "    except Exception as e:\n",
    "        # invalid input\n",
    "        return pd.Series(index = col_names, data=accounts)\n",
    "    if isinstance(d, dict):\n",
    "        # parse\n",
    "        for i, (key, val) in enumerate(d.items()):\n",
    "            try:\n",
    "                accounts[i] = int(val['account_id'])\n",
    "            except KeyError as e:\n",
    "                pass\n",
    "    return pd.Series(index = col_names, data=accounts)"
   ]
  },
  {
   "cell_type": "code",
   "execution_count": null,
   "metadata": {},
   "outputs": [],
   "source": [
    "# may need to reread csv if this operation failed once\n",
    "for col in ['p0','p1','p2','p3','p4','p5','p6','p7','p8','p9']:\n",
    "    if col in df_matches_small.columns:\n",
    "        df_matches_small = df_matches_small.drop(col, axis=1)\n",
    "#df_matches_small = df_matches_small.join(df_matches_small['pgroup'].apply(add_feature_columns, 'axis=1'))\n",
    "df_players = df_matches_small['pgroup'].apply(add_feature_columns, 'axis=1')\n",
    "df_players['match_id'] = df_matches_small['match_id']\n",
    "df_players\n",
    "#client.compute(df_matches_small)"
   ]
  },
  {
   "cell_type": "code",
   "execution_count": null,
   "metadata": {},
   "outputs": [],
   "source": [
    "%%time\n",
    "dd.to_parquet(df_players, 'df_players_pk', engine='pyarrow')"
   ]
  },
  {
   "cell_type": "code",
   "execution_count": null,
   "metadata": {},
   "outputs": [],
   "source": [
    "%%time\n",
    "drop_cols = ['pgroup', 'cluster', 'negative_votes', 'positive_votes', 'parse_status']\n",
    "df_matches_small = df_matches_small.drop(drop_cols, axis=1)\n",
    "dd.to_parquet(df_matches_small, 'df_matches_small_pk.parquet', engine='pyarrow')"
   ]
  },
  {
   "cell_type": "code",
   "execution_count": null,
   "metadata": {},
   "outputs": [],
   "source": [
    "pd.read_parquet('df_players_pk').head()"
   ]
  },
  {
   "cell_type": "code",
   "execution_count": null,
   "metadata": {},
   "outputs": [],
   "source": [
    "print('test')"
   ]
  },
  {
   "cell_type": "code",
   "execution_count": null,
   "metadata": {},
   "outputs": [],
   "source": [
    "df_match_skill.head()"
   ]
  },
  {
   "cell_type": "code",
   "execution_count": null,
   "metadata": {
    "scrolled": true
   },
   "outputs": [],
   "source": [
    "c_types = df_player_matches_small.dtypes\n",
    "c_types = c_types.apply(str)\n",
    "c_types = c_types.to_dict()\n",
    "string_cols = ['max_hero_hit',\n",
    "              'times',\n",
    "               'gold_t',\n",
    "               'lh_t',\n",
    "               'xp_t',\n",
    "               'obs_log',\n",
    "               'sen_log',\n",
    "               'purchase_log',\n",
    "               'kills_log',\n",
    "               'buyback_log',\n",
    "               'lane_pos',\n",
    "               'obs',\n",
    "               'sen',\n",
    "               'actions',\n",
    "               'pings',\n",
    "               'purchase',\n",
    "               'gold_reasons',\n",
    "               'xp_reasons',\n",
    "               'killed',\n",
    "               'item_uses',\n",
    "               'ability_uses',\n",
    "               'hero_hits',\n",
    "               'damage_inflictor',\n",
    "               'runes',\n",
    "               'killed_by',\n",
    "               'kill_streaks',\n",
    "               'multi_kills',\n",
    "               'life_state',\n",
    "               'damage',\n",
    "               'damage_taken',\n",
    "               'additional_units']\n",
    "# convert json fields to string\n",
    "for c in string_cols:\n",
    "    c_types[c] = 'str'\n",
    "# convert int fields to float to handle NaNs\n",
    "for key, val in c_types.items():\n",
    "    if val == 'int64':\n",
    "        c_types[key] = 'float64'\n",
    "c_types"
   ]
  },
  {
   "cell_type": "code",
   "execution_count": null,
   "metadata": {
    "scrolled": true
   },
   "outputs": [],
   "source": [
    "df_player_matches_small = dd.read_csv('player_matches_small.csv', dtype=c_types, comment='\\'')\n",
    "df_player_matches_small.head()"
   ]
  },
  {
   "cell_type": "code",
   "execution_count": null,
   "metadata": {},
   "outputs": [],
   "source": [
    "df_player_matches_small['account_id'].isna().sum().compute()"
   ]
  },
  {
   "cell_type": "code",
   "execution_count": null,
   "metadata": {},
   "outputs": [],
   "source": [
    "len(df_player_matches_small)"
   ]
  },
  {
   "cell_type": "code",
   "execution_count": null,
   "metadata": {},
   "outputs": [],
   "source": [
    "df_player_matches_small"
   ]
  },
  {
   "cell_type": "code",
   "execution_count": null,
   "metadata": {},
   "outputs": [],
   "source": []
  }
 ],
 "metadata": {
  "kernelspec": {
   "display_name": "Python 3",
   "language": "python",
   "name": "python3"
  },
  "language_info": {
   "codemirror_mode": {
    "name": "ipython",
    "version": 3
   },
   "file_extension": ".py",
   "mimetype": "text/x-python",
   "name": "python",
   "nbconvert_exporter": "python",
   "pygments_lexer": "ipython3",
   "version": "3.7.2"
  }
 },
 "nbformat": 4,
 "nbformat_minor": 2
}
